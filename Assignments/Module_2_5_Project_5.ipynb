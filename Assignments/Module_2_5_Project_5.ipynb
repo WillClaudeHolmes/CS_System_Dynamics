{
 "cells": [
  {
   "cell_type": "markdown",
   "metadata": {},
   "source": [
    "\n",
    "# Module 2.5 - Project \\#5\n",
    "Develop a two-compartment model for Dilantin, in which the rate of change of absorption from the stomach to the blood serum is proportional to the volume of the stomach and to the difference of the drug concentrations in the stomach and serum.  Assume:\n",
    "- The volume stomach volume is $500\\:mL$ and the blood volume is $3000\\:mL$.\n",
    "- The rate of flow from the stomach/intestines to the blood is proportional to the difference in concentration between the stomach/intestines and blood serum with a rate constant of $12\\frac{mL}{hr}$.\n",
    "- The drug is eliminated from the blood with a $22 hr$ half life.\n",
    "- The drug is eliminated from the stomach/intestine with an $4 hr$ half life.\n",
    "- Drug dosing is a $100\\:mg$ tablet every $8\\:hrs$"
   ]
  },
  {
   "cell_type": "markdown",
   "metadata": {},
   "source": [
    "## Model Equations\n",
    "Write out differential (or finite difference) equations for a two compartment model of drug dosage.  Before you write out the equations, you may want to represent the system in graphical format as in figure 2.5.3 of your text.\n",
    "\n",
    "You may want to verify your equations with your instructor before completing the numerical simulation portion of this assignment.\n",
    "\n",
    "For inputing your equations into this notebook, a good reference is [this list of LaTex mathematical symbols](http://www.auburn.edu/~tamtiny/Symbols.pdf).  To include LaTex in a markdown cell, you simply inclose the LaTex code between \\$ and \\$ for it to be in the paragraph or between double dollar signs, \\$\\$, for equations on their own line and centered.  For examples, check out the [Module 2-3 notebook](.\\..\\Module_2_3.ipynb).  For instance, the constrained growth differential equations is $$\\frac{dP}{dt}=\\frac{dB}{dt} - \\frac{dD}{dt}$$"
   ]
  },
  {
   "cell_type": "markdown",
   "metadata": {},
   "source": [
    "## Initialization and Code\n",
    "This section contains initialization code which gives this notebook the resources it needs to run.  If you want to use functions from the the examples, you will need to include `from .\\..\\SDExamples import *` in the section below."
   ]
  },
  {
   "cell_type": "code",
   "execution_count": 1,
   "metadata": {
    "collapsed": true
   },
   "outputs": [],
   "source": [
    "#This code performs the necessary steps to prepare for plotting.\n",
    "from matplotlib import pyplot\n",
    "from math import *\n",
    "    \n",
    "#Set the default plot to be inline rather than a new window.\n",
    "%matplotlib inline\n",
    "\n",
    "import inspect  #This allows us to print the source code in this notebook.\n",
    "from SDAssignment import *  #Import the custom functions from this project."
   ]
  },
  {
   "cell_type": "markdown",
   "metadata": {},
   "source": [
    "In the file [SDAssignment.py](SDAssignment.py) write a function which takes the problem parameters as input and returns stomach drug concentration and blood drug concentration as functions of time.\n",
    "\n",
    "For the assignment:\n",
    "-  Include a print out of your code here by uncommenting and modifying the line below.\n",
    "-  Edit this cell of instructions to explain your code.  Pay special attention to how your code handles the two compartment model."
   ]
  },
  {
   "cell_type": "code",
   "execution_count": 2,
   "metadata": {
    "collapsed": true
   },
   "outputs": [],
   "source": [
    "#print(inspect.getsource(YourFunctionName)) Do not include () on YourFunctionName."
   ]
  },
  {
   "cell_type": "markdown",
   "metadata": {},
   "source": [
    "## Model Results\n",
    "Run you model and plot the results for the drug concentration vs time for both the stomach concentration and the blood concentration.  In your plots:\n",
    "- use $\\frac{\\mu g}{mL}$ as your concentration unit\n",
    "- Include both the stomach and blood concentrations on a single plot.\n",
    "- The stomach and blood will have very different concentrations.  Therefore, use different y axes for the stomach and blood concentrations.  [This matplotlib example](http://matplotlib.org/examples/pylab_examples/multiple_yaxis_with_spines.html) demonstates how to do this.\n"
   ]
  },
  {
   "cell_type": "code",
   "execution_count": null,
   "metadata": {
    "collapsed": true
   },
   "outputs": [],
   "source": []
  }
 ],
 "metadata": {
  "anaconda-cloud": {},
  "kernelspec": {
   "display_name": "Python [default]",
   "language": "python",
   "name": "python3"
  },
  "language_info": {
   "codemirror_mode": {
    "name": "ipython",
    "version": 3
   },
   "file_extension": ".py",
   "mimetype": "text/x-python",
   "name": "python",
   "nbconvert_exporter": "python",
   "pygments_lexer": "ipython3",
   "version": "3.5.2"
  }
 },
 "nbformat": 4,
 "nbformat_minor": 0
}
