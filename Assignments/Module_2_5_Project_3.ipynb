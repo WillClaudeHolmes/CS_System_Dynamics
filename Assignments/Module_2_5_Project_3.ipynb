{
 "cells": [
  {
   "cell_type": "markdown",
   "metadata": {},
   "source": [
    "# Module 2.5 - Project \\#3\n",
    "In attempt to raise the concentration of a drug in the system to the minimum effective concentration quickly, sometimes doctors give a patient a loading dose, which is an initial dosage that is much higher than the maintenance dosage. A loading dose for Dilantin is three doses - $400\\:mg$, $300\\:mg$ and $300\\:mg$ two hours apart. Twenty-four hours after the loading dose, normal dosage of $100\\:mg$ every eight hours begins. Develop a model for this dosage regime.  For this problem:\n",
    "-  Develop a computer simulation which models the loading the and regular dosing.\n",
    "-  Plot the results of the model to show drug concentration as a function of time.\n",
    "-  Improve the loading sequence to keep the drug dose between the minimum effective concentration (MEC) and minimum toxic concentration (MTC) given in the text."
   ]
  },
  {
   "cell_type": "markdown",
   "metadata": {},
   "source": [
    "## Initialization and Code\n",
    "This section contains initialization code which gives this notebook the resources it needs to run.  If you want to use functions from the the examples, you will need to include `from SDExamples import *` in the section below."
   ]
  },
  {
   "cell_type": "code",
   "execution_count": 1,
   "metadata": {
    "collapsed": true
   },
   "outputs": [],
   "source": [
    "#This code performs the necessary steps to prepare to plot.\n",
    "from matplotlib import pyplot\n",
    "from math import *\n",
    "    \n",
    "#Set the default plot to be inline rather than a new window.\n",
    "%matplotlib inline\n",
    "\n",
    "import inspect  #This allows us to print the source code in this notebook.\n",
    "from SDAssignment import *  #Import the custom functions from this project."
   ]
  },
  {
   "cell_type": "markdown",
   "metadata": {},
   "source": [
    "In the file [SDAssignment.py](SDAssignment.py) write a function which takes the problem parameters as input and returns drug concentration as a function of time.  For the drug loading, pass the details of the loading to the function in the form of a list of (time, dose) tuples for the loading doses.  For instance, the call to the function for the loading given in this problem would look something like `DrugModelWithLoading(loading = [(0,400),(2,300),(4,300)] ...`  Passing the loading as a parameter will allow you to modify it easily in future problems.\n",
    "\n",
    "Once the loading doses are finished, your code should change to the regular dosing pattern.  Be sure to test your function for a correct transition between loading and regular dosing.\n",
    "\n",
    "For the assignment:\n",
    "-  Include a print out of your code here by uncommenting and modifying the line below.\n",
    "-  Edit this cell of instructions to explain your code.  Pay special attention to how your code handles the loading doses as well as the transition to regular dosing."
   ]
  },
  {
   "cell_type": "code",
   "execution_count": 2,
   "metadata": {
    "collapsed": true
   },
   "outputs": [],
   "source": [
    "#print(inspect.getsource(YourFunctionName)) Do not include () on YourFunctionName."
   ]
  },
  {
   "cell_type": "markdown",
   "metadata": {},
   "source": [
    "## Model Results\n",
    "Run your simulation and include graphs of the drug concentration vs time for:\n",
    "- First Week\n",
    "- First 48 Hours\n",
    "Discuss your results by describing the effect of the loading doses."
   ]
  },
  {
   "cell_type": "markdown",
   "metadata": {},
   "source": [
    "## Loading Dose Improvement\n",
    "Use your model to improve the loading dose sequence.  The result of your suggested loading dose sequence should keep the concentration between MEC and MTC better than the loading dose sequence given in this problem."
   ]
  },
  {
   "cell_type": "code",
   "execution_count": null,
   "metadata": {
    "collapsed": true
   },
   "outputs": [],
   "source": []
  }
 ],
 "metadata": {
  "anaconda-cloud": {},
  "kernelspec": {
   "display_name": "Python [default]",
   "language": "python",
   "name": "python3"
  },
  "language_info": {
   "codemirror_mode": {
    "name": "ipython",
    "version": 3
   },
   "file_extension": ".py",
   "mimetype": "text/x-python",
   "name": "python",
   "nbconvert_exporter": "python",
   "pygments_lexer": "ipython3",
   "version": "3.5.2"
  }
 },
 "nbformat": 4,
 "nbformat_minor": 0
}
