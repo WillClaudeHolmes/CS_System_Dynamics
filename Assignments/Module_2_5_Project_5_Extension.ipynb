{
 "cells": [
  {
   "cell_type": "markdown",
   "metadata": {},
   "source": [
    "\n",
    "# Module 2.5 - Project \\#5 Extension\n",
    "Using your results from Module 2.5 project \\#5 and project \\#3, extend your results to include loading in your two compartment model.  Use the loading sequence given in project \\#3, 400 mg, 300 mg, 300 mg at t=0,2, and 4 hours.  Finally, find a loading sequence which keeps the blood concentration between $10\\frac{\\mu g}{mL}$ and $20\\frac{\\mu g}{mL}$ better than the giving loading sequence.  Document your problem solving process by giving good comments in this notebook."
   ]
  },
  {
   "cell_type": "markdown",
   "metadata": {},
   "source": [
    "## Initialization and Code\n",
    "This section contains initialization code which gives this notebook the resources it needs to run.  If you want to use functions from the the examples, you will need to include `from .\\..\\SDExamples import *` in the section below."
   ]
  },
  {
   "cell_type": "code",
   "execution_count": 1,
   "metadata": {
    "collapsed": true
   },
   "outputs": [],
   "source": [
    "#This code performs the necessary steps to prepare for plotting.\n",
    "from matplotlib import pyplot\n",
    "from math import *\n",
    "    \n",
    "#Set the default plot to be inline rather than a new window.\n",
    "%matplotlib inline\n",
    "\n",
    "import inspect  #This allows us to print the source code in this notebook.\n",
    "from SDAssignment import *  #Import the custom functions from this project."
   ]
  },
  {
   "cell_type": "markdown",
   "metadata": {},
   "source": [
    "Include your simulation code here with the statement below."
   ]
  },
  {
   "cell_type": "code",
   "execution_count": 2,
   "metadata": {
    "collapsed": true
   },
   "outputs": [],
   "source": [
    "#print(inspect.getsource(YourFunctionName)) Do not include () on YourFunctionName."
   ]
  },
  {
   "cell_type": "markdown",
   "metadata": {},
   "source": [
    "## Two Compartment Model with Loading"
   ]
  },
  {
   "cell_type": "code",
   "execution_count": null,
   "metadata": {
    "collapsed": true
   },
   "outputs": [],
   "source": []
  },
  {
   "cell_type": "markdown",
   "metadata": {
    "collapsed": true
   },
   "source": [
    "## Loading Improvement"
   ]
  },
  {
   "cell_type": "code",
   "execution_count": null,
   "metadata": {
    "collapsed": true
   },
   "outputs": [],
   "source": []
  }
 ],
 "metadata": {
  "anaconda-cloud": {},
  "kernelspec": {
   "display_name": "Python [default]",
   "language": "python",
   "name": "python3"
  },
  "language_info": {
   "codemirror_mode": {
    "name": "ipython",
    "version": 3
   },
   "file_extension": ".py",
   "mimetype": "text/x-python",
   "name": "python",
   "nbconvert_exporter": "python",
   "pygments_lexer": "ipython3",
   "version": "3.5.2"
  }
 },
 "nbformat": 4,
 "nbformat_minor": 0
}
