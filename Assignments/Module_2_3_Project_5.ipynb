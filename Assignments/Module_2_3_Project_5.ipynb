{
 "cells": [
  {
   "cell_type": "markdown",
   "metadata": {},
   "source": [
    "# Module 2.3 Project \\#5\n",
    "Develop a model for the number of trout in a lake initially stocked with 400 trout. These fish increase at an annual rate of 15%, and the lake has a carrying capacity of 5000 trout. However, vacationers catch trout at a rate of 8%.\n",
    "\n",
    "Using the problem above:\n",
    "-  On the same graph, plot the trout population vs years for catch rates of 0, 4%, 8%, and 16%.\n",
    "-  For each of catch rates listed above, determine the number of fish vacationers are catching per year in the steady state.\n",
    "\n",
    "Note that you may use a $\\Delta t$ of 1 year for this problem."
   ]
  },
  {
   "cell_type": "markdown",
   "metadata": {},
   "source": [
    "## Initialization and Code\n",
    "This section contains initialization code which gives this notebook the resources it needs to run.  If you want to use functions from the the examples, you will need to include `from SDExamples import *` in the section below."
   ]
  },
  {
   "cell_type": "code",
   "execution_count": 1,
   "metadata": {
    "collapsed": true
   },
   "outputs": [],
   "source": [
    "#This code performs the necessary steps to prepare to plot.\n",
    "from matplotlib import pyplot\n",
    "from math import *\n",
    "    \n",
    "#Set the default plot to be inline rather than a new window.\n",
    "%matplotlib inline\n",
    "\n",
    "import inspect  #This allows us to print the source code in this notebook.\n",
    "from SDAssignment import *  #Import the custom functions from this project."
   ]
  },
  {
   "cell_type": "markdown",
   "metadata": {},
   "source": [
    "In the file [SDAssignment.py](SDAssignment.py) write a function which takes the problem parameters as input and returns the fish population as a function of time.  Your function should module this systems dynamics problem using finite difference methods.\n",
    "\n",
    "For the assignment:\n",
    "-  Include a print out of your code here by uncommenting and modifying the line below.\n",
    "-  Edit this cell of instructions to explain your code paying special attention to how you implemented the effect of vacationers catching fish."
   ]
  },
  {
   "cell_type": "code",
   "execution_count": 2,
   "metadata": {
    "collapsed": true
   },
   "outputs": [],
   "source": [
    "#print(inspect.getsource(YourFunctionName)) Do not include () on YourFunctionName."
   ]
  },
  {
   "cell_type": "markdown",
   "metadata": {},
   "source": [
    "## Plot the trout population vs years for catch rates of 0, 4%, 8%, and 16%"
   ]
  },
  {
   "cell_type": "code",
   "execution_count": 3,
   "metadata": {
    "collapsed": true
   },
   "outputs": [],
   "source": [
    "#Be sure to plot these four curves on the same plot so they can be easily compared.\n",
    "#Be sure to include an appropiate legend for your curve."
   ]
  },
  {
   "cell_type": "markdown",
   "metadata": {},
   "source": [
    "## Steady State Catch Rate\n",
    "For each of catch rates listed above, determine the number of fish vacationers are catching per year in the steady state."
   ]
  },
  {
   "cell_type": "code",
   "execution_count": null,
   "metadata": {
    "collapsed": true
   },
   "outputs": [],
   "source": []
  }
 ],
 "metadata": {
  "anaconda-cloud": {},
  "kernelspec": {
   "display_name": "Python [default]",
   "language": "python",
   "name": "python3"
  },
  "language_info": {
   "codemirror_mode": {
    "name": "ipython",
    "version": 3
   },
   "file_extension": ".py",
   "mimetype": "text/x-python",
   "name": "python",
   "nbconvert_exporter": "python",
   "pygments_lexer": "ipython3",
   "version": "3.5.2"
  }
 },
 "nbformat": 4,
 "nbformat_minor": 0
}
